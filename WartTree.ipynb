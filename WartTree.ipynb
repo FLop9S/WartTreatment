### <font>          1) O primeiro passo para o algoritimo em python funcionar foi importar as bibliotecas e métodos Tree e Label encoder                                             </font>

import pandas as pd
import matplotlib.pyplot as plt
from sklearn import tree
from sklearn.preprocessing import LabelEncoder
from sklearn.tree import DecisionTreeClassifier

a=1
global tt
tt=[]

### <font>  2) O segundo passo foi importar a fonte de dados que estão alocados em uma pasta do google drive                                             </font>

from google.colab import drive
drive.mount('/content/drive')
RESP = pd.read_csv('/content/drive/My Drive/Colab Notebooks/Projeto-IoT/PROJOK.csv', sep = ';')

### <font>  3) O terceiro passo consiste em utilizar as funções da biblioteca sklearn para transformar os dados das linhas e colunas da fonte em dados numéricos inteiros                                             </font>
<font> Exemplificando:
</font>
- 1 <font color ='brown'>Observamos os dados da coluna <font color ='green'>'C'</font> =<font color ='ciano'> 1, 1.5, 1,.6, 1.8, etc...</font>, do tipo float e  
 da coluna <font color ='green'>'D'</font> = <font color ='ciano'> arroz, batata, feijão, macarrão, abóbora, etc..</font>, do tipo string;            </font>

- 2 <font color ='brown'>Uso da Biblioteca sklearn com a <font color ='ciano'>função fit_transform </font>         </font>
- 3 <font color ='brown'>Obtendo um resultado = 
    - <font color ='green'>Coluna 'C'</font> =<font color ='ciano'> 0,1, 2,3, 4, etc(...);    
    -  <font color ='green'>Coluna 'D'</font> = <font color ='ciano'> 0, 1, 2, 3, 4, etc(...)</font>
     </font>

change = LabelEncoder()
RESP['age']                 = change.fit_transform(RESP['age'])
RESP['sex']                 = change.fit_transform(RESP['sex'])
RESP['Area']                = change.fit_transform(RESP['Area'])
RESP['induration_diameter'] = change.fit_transform(RESP['induration_diameter'])
RESP['Type']                = change.fit_transform(RESP['Type'])
RESP['Number_of_Warts']     = change.fit_transform(RESP['Number_of_Warts'])
RESP['Result_of_Treatment'] = change.fit_transform(RESP['Result_of_Treatment'])
RESP['Time']                = change.fit_transform(RESP['Time'])


### <font>  4) Criação da Árvore de decisões                                             </font>
<font> Explicando: 

- O primeiro passo será desvincular e indicar qual a coluna "target", que contém o objetivo, do resto da tabela.
  -  Neste caso é a coluna <font color = 'blue'>'Result_of_Treatment'</font>, que é a resposta de que se o tratamento apresentará resultados ou não.
- O segundo é rodar o aa função <font color = 'blue'>'tree.DecisionTreeClassifier'</font> que construirá a árvore de decisões seguindo os critérios padrões.
   -  Neste caso, foram alterados o critério <font color = 'blue'>'entrophy'</font> que realiza contas para decidir a rota/ramo com maior ganho de informação, decidir quais informações são mais úteis para chegar ao valor do Target.

<font color = 'orange'>- Após criada, a àrvore é salva numa pasta do drive em forma de pdf - </font> 
</font>

Y = RESP['Result_of_Treatment']
X =  RESP.drop(['Result_of_Treatment'], axis =1)


clf = tree.DecisionTreeClassifier(criterion='entropy',
                                  splitter='best', max_depth=None,
                                  min_samples_split=2, min_samples_leaf=1, 
                                  min_weight_fraction_leaf=0.0, random_state=None, 
                                  max_leaf_nodes=None, min_impurity_decrease=0.0, 
                                  min_impurity_split=None, class_weight=None, 
                                  presort='deprecated', ccp_alpha=0.0)
clf = clf.fit(X,Y)
tree.plot_tree(clf)
a= int(a)
if a >= 2:
  a= 0

a = a+1
a= str(a)
fig = plt.gcf()
fig.savefig('tree'+a+'.pdf', format ='pdf')
plt.show()

### <font>  5) Entradas e algoritimo                                           </font>
<font> Foram criadas duas funções, <font color = 'ciano'>questions</font> e<font color = 'ciano'> 
ArvoreDecis</font>, que, respectivamente, faz perguntas ao usuário e registra a resposta em variáveis, e compara as variáveis com as ramificações da arvore de decisões criada. 
</font>

def ArvoreDecis():
  
  
  if time <= 11.5:
    if diam <=1.5:
      print('----O tratamento provavelmente retornará um resultado positivo!----')
    elif diam >1.5:
        if age <= 7.5:
          if age <= 0.5:
            print('----O tratamento provavelmente retornará um resultado positivo!----')          
          elif age >0.5:
            print('----O tratamento provavelmente retornará um resultado negativo!----')
        elif age >7.5:
          if age<= 24.0:
            print('----O tratamento provavelmente retornará um resultado positivo!----') 
          elif age> 24.0:
            if time <= 5.0:
              print('----O tratamento provavelmente retornará um resultado negativo!----')
            elif time >5.0:
              if area <= 55.5:
                print('----O tratamento provavelmente retornará um resultado positivo!----')
              else: print('----O tratamento provavelmente retornará um resultado negativo!----')  

  elif time > 11.5:
    if age <= 17.5:
      print('----O tratamento provavelmente retornará um resultado negativo!----')
    elif age>17.5:  
      if age <= 18.5:
        print('----O tratamento provavelmente retornará um resultado positivo!----')
      elif age > 18.5:
        if diam <= 3.5:
          print('----O tratamento provavelmente retornará um resultado negativo!----')
        elif diam>3.5:
          if diam <= 7.5:
            if age <= 30.5:
              if time <= 23.5:
                print('----O tratamento provavelmente retornará um resultado positivo!----')
              elif time > 23.5:
                if area <=39.9:
                  print('----O tratamento provavelmente retornará um resultado negativo!----')
                elif area > 39.9:
                  if age <= 26.0:
                    print('----O tratamento provavelmente retornará um resultado positivo!----')
                  else:
                    print('----O tratamento provavelmente retornará um resultado negativo!----')  
            elif age > 30.5:
              print('----O tratamento provavelmente retornará um resultado negativo!----')
          else: print('----O tratamento provavelmente retornará um resultado positivo!----')  

def questions():

  global sex,age,time,nunverr,verr, area,diam
  global testee

  sex = int(input('''Qual o sexo da pessoa?
  [1]Homem
  [2]Mulher
  '''))
  while(sex<1 or sex>2):
    print("O valor deve ser 1 ou 2")
    sex = int(input('''Qual o sexo da pessoa?
  [1]Homem
  [2]Mulher
  '''))
  age = int(input('''Qual a idade?
  '''))
  while(age<0):
    print("O valor deve ser positivo")
    age = int(input('''Qual a idade correta?
  '''))
    if(age>123):
      print("Esta pessoa está viva?")
      age = int(input('''Qual a idade correta?
  '''))  
  time = float(input('''Quanto tempo demorou para iniciar o tratamento?
  [em meses]
  '''))
  while(time<0):
    print("O valor deve ser positivo")
    time = float(input('''Quanto tempo demorou para iniciar o tratamento?
  [em meses]
  '''))
  nunverr = int(input('''Quantas verrugas possui?
  '''))
  while(nunverr<0):
    print("Se a pessoa não possui verrugas, não necessita de tratamento, caso tenha errado, tente novamente:")
    nunverr = int(input('''Quantas verrugas possui?
  '''))
  verr = int(input('''Qual o tipo da verruga?
  [1]Comum
  [2]Plantaria
  [3]Ambas
  '''))
  while(verr<1 or verr>3):
    print("O valor deve ser 1, 2 ou 3")
    verr = int(input('''Qual o tipo da verruga?
  [1]Comum
  [2]Plantaria
  [3]Ambas
  '''))
  area = float(input('''Qual a área da superfície da verruga?
  [mm²]
  '''))
  while(area<0):
    print("O valor deve ser positivo")  
    area = float(input('''Qual a área da superfície da verruga?
  [mm²]
  '''))
  diam = float(input('''Qual o diâmetro da verruga no primeiro teste?
  [mm] 
  '''))  
  while(diam<0):
    print("O valor deve ser positivo")
    diam = float(input('''Qual o diâmetro da verruga no primeiro teste?
  [mm] 
  '''))

  testee = [sex,age,time,nunverr,verr, area,diam]
  
  # print(testee)
                       
 ### <font>  5.1) Entradas                                          </font>
<font> Utilizando as duas funções criadas, <font color = 'ciano'>as entradas</font> geram perguntas que são salvas em <font color = 'ciano'> 
 variáveis</font>, que são utilizadas pelo algoritimo. 
</font>
                       
questions()
ArvoreDecis()                       
                       
